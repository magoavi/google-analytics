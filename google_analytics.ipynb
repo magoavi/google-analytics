{
 "cells": [
  {
   "cell_type": "raw",
   "metadata": {},
   "source": [
    "<script>\n",
    "  function code_toggle() {\n",
    "    if (code_shown){\n",
    "      $('div.input').hide('500');\n",
    "      $('#toggleButton').val('Show Code')\n",
    "    } else {\n",
    "      $('div.input').show('500');\n",
    "      $('#toggleButton').val('Hide Code')\n",
    "    }\n",
    "    code_shown = !code_shown\n",
    "  }\n",
    "\n",
    "  $( document ).ready(function(){\n",
    "    code_shown=false;\n",
    "    $('div.input').hide()\n",
    "  });\n",
    "</script>\n",
    "<form action=\"javascript:code_toggle()\"><input type=\"submit\" id=\"toggleButton\" value=\"Show Code\"></form>"
   ]
  },
  {
   "cell_type": "code",
   "execution_count": 2,
   "metadata": {
    "ExecuteTime": {
     "end_time": "2018-06-12T20:28:17.829994Z",
     "start_time": "2018-06-12T20:28:17.049198Z"
    }
   },
   "outputs": [],
   "source": [
    "# Loading Libraries\n",
    "%matplotlib inline\n",
    "\n",
    "import pandas as pd;\n",
    "import matplotlib.pyplot as plt;\n",
    "import matplotlib.dates as mdates;\n",
    "import numpy as np;\n",
    "import warnings; \n",
    "from IPython.display import HTML, display;\n",
    "warnings.simplefilter('ignore');"
   ]
  },
  {
   "cell_type": "code",
   "execution_count": 3,
   "metadata": {
    "ExecuteTime": {
     "end_time": "2018-06-12T20:28:18.699554Z",
     "start_time": "2018-06-12T20:28:18.648124Z"
    },
    "collapsed": true
   },
   "outputs": [],
   "source": [
    "# Loading Dataset\n",
    "datapath = r'supplementary_files/channel.xlsx'\n",
    "data = pd.read_excel(datapath, sheet_name = 'Dataset1')\n",
    "source_comparison = data.iloc[:,0:8]\n",
    "\n",
    "datapath2 = r'supplementary_files/channel.xlsx'\n",
    "data2 = pd.read_excel(datapath2, sheet_name = 'Dataset2')\n",
    "overview = data2.iloc[0:4,:]"
   ]
  },
  {
   "cell_type": "markdown",
   "metadata": {},
   "source": [
    "# Google Analytics <a class='tocSkip'></a>"
   ]
  },
  {
   "cell_type": "markdown",
   "metadata": {},
   "source": [
    "# Table of Contents: <a class='tocSkip'></a>\n",
    "\n",
    "* [1. Introduction to Google Analytics](#Introduction-to-Google-Analytics)\n",
    "\n",
    "    * [1.1 Overview](#Overview)\n",
    "        * [1.1.1 Methodology](#Methodology)\n",
    "        * [1.1.2 Campaign](#Campaign)<br>\n",
    "    <br>\n",
    "    * [1.2. Results](#2Results)\n",
    "\n",
    "        * [1.2.1 Web Traffic](#Web-Traffic)\n",
    "        * [1.2.2 Traffic Quality](#Traffic-Quality)\n",
    "        * [1.2.3 User Behavior](#User-Behavior)\n",
    "            * [1.2.3.1 Clicks](#Clicks)\n",
    "            * [1.2.3.2 Scrolling](#Scrolling)\n",
    "            <br>\n",
    "<br>\n",
    "* [2. A/B Testing](#A/B-Testing)\n",
    "\n",
    "    * [2.1 Research Objective](#Research-Objective)\n",
    "    * [2.2 Google Optimize](#Google-Optimize)\n",
    "    * [2.3 Campaign Performance](#Campaign-Performance)"
   ]
  },
  {
   "cell_type": "markdown",
   "metadata": {
    "ExecuteTime": {
     "end_time": "2018-06-12T20:30:25.006675Z",
     "start_time": "2018-06-12T20:30:25.004447Z"
    }
   },
   "source": [
    "# Introduction to Google Analytics"
   ]
  },
  {
   "cell_type": "markdown",
   "metadata": {},
   "source": [
    "> This section briefly discusses the implementation of tags through the use of google tag manager and highlights some of the most interesting metrics to track for a specific campaign."
   ]
  },
  {
   "cell_type": "markdown",
   "metadata": {},
   "source": [
    "## Overview\n",
    "\n",
    "### Methodology\n",
    "\n",
    "> Various google tags were installed on [my page](http://dmgb2.weebly.com/1_optimise.html). These included Google Analytics, Universal Analytics, Web Satisfaction Survey and Crazy Egg. The main purpose of installing these tags was to track user behaviour coming from various platforms and observe differences in their behaviour on the website.\n",
    "\n",
    "### Campaign\n",
    "\n",
    "> Using Google URL builder, I posted different links on LinkedIn, Facebook, Instagram and WhatsApp. The URL builder helped me to track back the source of the clicks. This report will discuss the following topics:\n",
    "\n",
    "> * [Web Traffic](#Web-Traffic)\n",
    "> * [Traffic quality](#Traffic-Quality)\n",
    "> * [User Behavior](#User-Behavior)"
   ]
  },
  {
   "cell_type": "markdown",
   "metadata": {},
   "source": [
    "**Screenshots of the campaign**"
   ]
  },
  {
   "cell_type": "code",
   "execution_count": 4,
   "metadata": {
    "ExecuteTime": {
     "end_time": "2018-06-12T20:28:21.911424Z",
     "start_time": "2018-06-12T20:28:21.905627Z"
    }
   },
   "outputs": [
    {
     "data": {
      "text/html": [
       "<style>              #cssTable td \n",
       "              {\n",
       "              text-align:center;              vertical-align:middle;\n",
       "              }\n",
       "              </style>              <table id=\"cssTable\">              <tr>              <td>Instagram</td>              <td>LinkedIn</td>              <td>Facebook</td>              <td>WhatsApp</td>              <tr>              <td><img src='supplementary_files/img1.PNG'></td>              <td><img src='supplementary_files/img2.PNG'></td>              <td><img src='supplementary_files/img3.PNG'></td>              <td><img src='supplementary_files/img4.PNG'></td>              </tr>              </table>\n",
       "             "
      ],
      "text/plain": [
       "<IPython.core.display.HTML object>"
      ]
     },
     "metadata": {},
     "output_type": "display_data"
    }
   ],
   "source": [
    "display(HTML(\"\"\"<style>\\\n",
    "              #cssTable td \n",
    "              {\n",
    "              text-align:center;\\\n",
    "              vertical-align:middle;\n",
    "              }\n",
    "              </style>\\\n",
    "              <table id=\"cssTable\">\\\n",
    "              <tr>\\\n",
    "              <td>Instagram</td>\\\n",
    "              <td>LinkedIn</td>\\\n",
    "              <td>Facebook</td>\\\n",
    "              <td>WhatsApp</td>\\\n",
    "              <tr>\\\n",
    "              <td><img src='supplementary_files/img1.PNG'></td>\\\n",
    "              <td><img src='supplementary_files/img2.PNG'></td>\\\n",
    "              <td><img src='supplementary_files/img3.PNG'></td>\\\n",
    "              <td><img src='supplementary_files/img4.PNG'></td>\\\n",
    "              </tr>\\\n",
    "              </table>\n",
    "             \"\"\"))"
   ]
  },
  {
   "cell_type": "markdown",
   "metadata": {},
   "source": [
    "## Results"
   ]
  },
  {
   "cell_type": "markdown",
   "metadata": {},
   "source": [
    "### Web Traffic\n",
    "\n",
    "> The campaign was initiated on the 9th May, and it clearly explains the growth in web traffic shown below:"
   ]
  },
  {
   "cell_type": "code",
   "execution_count": 5,
   "metadata": {
    "ExecuteTime": {
     "end_time": "2018-06-12T20:28:25.676053Z",
     "start_time": "2018-06-12T20:28:25.489475Z"
    }
   },
   "outputs": [
    {
     "data": {
      "image/png": "[encoded data removed]",
      "text/plain": [
       "<Figure size 576x360 with 1 Axes>"
      ]
     },
     "metadata": {},
     "output_type": "display_data"
    }
   ],
   "source": [
    "# Overview\n",
    "fig = plt.figure(figsize=(8,5))\n",
    "ax = plt.subplot(111)\n",
    "\n",
    "ax.plot(overview['Day Index'], overview['Users'])\n",
    "\n",
    "#set ticks every day\n",
    "ax.xaxis.set_major_locator(mdates.DayLocator())\n",
    "#set major ticks format\n",
    "ax.xaxis.set_major_formatter(mdates.DateFormatter('%b %d'))\n",
    "\n",
    "ax.set_title('Users Per Day')\n",
    "ax.set_xlabel('Day')\n",
    "ax.set_ylabel('Users')\n",
    "\n",
    "plt.show()"
   ]
  },
  {
   "cell_type": "markdown",
   "metadata": {},
   "source": [
    "**Comparison of the Campaign's Web Traffic**\n",
    "\n",
    "> The table below gives an overview of the results for the traffic generated by the four platforms. Clearly Facebook generated the highest users. This was as expected due to the overall higher number of people that would have seen the post on Facebook."
   ]
  },
  {
   "cell_type": "code",
   "execution_count": 6,
   "metadata": {
    "ExecuteTime": {
     "end_time": "2018-06-12T20:28:28.200400Z",
     "start_time": "2018-06-12T20:28:28.192815Z"
    }
   },
   "outputs": [
    {
     "data": {
      "text/html": [
       "<div>\n",
       "<style scoped>\n",
       "    .dataframe tbody tr th:only-of-type {\n",
       "        vertical-align: middle;\n",
       "    }\n",
       "\n",
       "    .dataframe tbody tr th {\n",
       "        vertical-align: top;\n",
       "    }\n",
       "\n",
       "    .dataframe thead th {\n",
       "        text-align: right;\n",
       "    }\n",
       "</style>\n",
       "<table border=\"1\" class=\"dataframe\">\n",
       "  <thead>\n",
       "    <tr style=\"text-align: right;\">\n",
       "      <th></th>\n",
       "      <th>Source / Medium</th>\n",
       "      <th>Users</th>\n",
       "      <th>New Users</th>\n",
       "      <th>Sessions</th>\n",
       "    </tr>\n",
       "  </thead>\n",
       "  <tbody>\n",
       "    <tr>\n",
       "      <th>0</th>\n",
       "      <td>banner / fb</td>\n",
       "      <td>35</td>\n",
       "      <td>33</td>\n",
       "      <td>38</td>\n",
       "    </tr>\n",
       "    <tr>\n",
       "      <th>1</th>\n",
       "      <td>banner / whatsapp</td>\n",
       "      <td>25</td>\n",
       "      <td>25</td>\n",
       "      <td>30</td>\n",
       "    </tr>\n",
       "    <tr>\n",
       "      <th>2</th>\n",
       "      <td>banner / linkedin</td>\n",
       "      <td>17</td>\n",
       "      <td>15</td>\n",
       "      <td>18</td>\n",
       "    </tr>\n",
       "    <tr>\n",
       "      <th>3</th>\n",
       "      <td>banner / insta</td>\n",
       "      <td>11</td>\n",
       "      <td>9</td>\n",
       "      <td>12</td>\n",
       "    </tr>\n",
       "  </tbody>\n",
       "</table>\n",
       "</div>"
      ],
      "text/plain": [
       "     Source / Medium  Users  New Users  Sessions\n",
       "0        banner / fb     35         33        38\n",
       "1  banner / whatsapp     25         25        30\n",
       "2  banner / linkedin     17         15        18\n",
       "3     banner / insta     11          9        12"
      ]
     },
     "execution_count": 6,
     "metadata": {},
     "output_type": "execute_result"
    }
   ],
   "source": [
    "source_comparison.iloc[0:4,1:5]"
   ]
  },
  {
   "cell_type": "markdown",
   "metadata": {},
   "source": [
    "##### Traffic Quality"
   ]
  },
  {
   "cell_type": "markdown",
   "metadata": {
    "ExecuteTime": {
     "end_time": "2018-05-12T11:35:42.366358Z",
     "start_time": "2018-05-12T11:35:42.363031Z"
    }
   },
   "source": [
    "**Comparison of the Campaign's Traffic Quality**"
   ]
  },
  {
   "cell_type": "markdown",
   "metadata": {},
   "source": [
    "> The table below clearly shows that Facebook had the least Bounce Rate. Further, the users that Facebook and WhatsApp brought on my page interacted much more compared to Linkedin and Instagram. It was interesting to note that WhatsApp attracted users who had the highest Avg. Session Duration. This finding can be reflective of the 'stronger connection' which we share with people with whom we connect on WhatsApp compared to other social platforms."
   ]
  },
  {
   "cell_type": "code",
   "execution_count": 7,
   "metadata": {
    "ExecuteTime": {
     "end_time": "2018-06-12T20:28:30.963847Z",
     "start_time": "2018-06-12T20:28:30.953373Z"
    }
   },
   "outputs": [
    {
     "data": {
      "text/html": [
       "<div>\n",
       "<style scoped>\n",
       "    .dataframe tbody tr th:only-of-type {\n",
       "        vertical-align: middle;\n",
       "    }\n",
       "\n",
       "    .dataframe tbody tr th {\n",
       "        vertical-align: top;\n",
       "    }\n",
       "\n",
       "    .dataframe thead th {\n",
       "        text-align: right;\n",
       "    }\n",
       "</style>\n",
       "<table border=\"1\" class=\"dataframe\">\n",
       "  <thead>\n",
       "    <tr style=\"text-align: right;\">\n",
       "      <th></th>\n",
       "      <th>Source / Medium</th>\n",
       "      <th>Bounce Rate</th>\n",
       "      <th>Pages / Session</th>\n",
       "      <th>Avg. Session Duration</th>\n",
       "    </tr>\n",
       "  </thead>\n",
       "  <tbody>\n",
       "    <tr>\n",
       "      <th>0</th>\n",
       "      <td>banner / fb</td>\n",
       "      <td>0.684211</td>\n",
       "      <td>1.552632</td>\n",
       "      <td>77.526316</td>\n",
       "    </tr>\n",
       "    <tr>\n",
       "      <th>1</th>\n",
       "      <td>banner / whatsapp</td>\n",
       "      <td>0.733333</td>\n",
       "      <td>1.600000</td>\n",
       "      <td>84.366667</td>\n",
       "    </tr>\n",
       "    <tr>\n",
       "      <th>2</th>\n",
       "      <td>banner / linkedin</td>\n",
       "      <td>0.833333</td>\n",
       "      <td>1.166667</td>\n",
       "      <td>17.111111</td>\n",
       "    </tr>\n",
       "    <tr>\n",
       "      <th>3</th>\n",
       "      <td>banner / insta</td>\n",
       "      <td>0.833333</td>\n",
       "      <td>1.166667</td>\n",
       "      <td>37.833333</td>\n",
       "    </tr>\n",
       "  </tbody>\n",
       "</table>\n",
       "</div>"
      ],
      "text/plain": [
       "     Source / Medium  Bounce Rate  Pages / Session  Avg. Session Duration\n",
       "0        banner / fb     0.684211         1.552632              77.526316\n",
       "1  banner / whatsapp     0.733333         1.600000              84.366667\n",
       "2  banner / linkedin     0.833333         1.166667              17.111111\n",
       "3     banner / insta     0.833333         1.166667              37.833333"
      ]
     },
     "execution_count": 7,
     "metadata": {},
     "output_type": "execute_result"
    }
   ],
   "source": [
    "traffic_quality_df = source_comparison[['Source / Medium', 'Bounce Rate', 'Pages / Session', 'Avg. Session Duration']]\n",
    "traffic_quality_df = traffic_quality_df.iloc[0:4,:]\n",
    "traffic_quality_df"
   ]
  },
  {
   "cell_type": "markdown",
   "metadata": {},
   "source": [
    "### User Behavior"
   ]
  },
  {
   "cell_type": "markdown",
   "metadata": {},
   "source": [
    "#### Clicks"
   ]
  },
  {
   "cell_type": "markdown",
   "metadata": {},
   "source": [
    "**Mobile**\n",
    "\n",
    "\n",
    "\n",
    "> The Confetti graph shown below displays the user behaviour and uses colour to differentiate between the user's characteristics. On the left, the users are differentiated concerning the social media platform they used to come to this specific page. It is interesting to observe how users from LinkedIn were typically focused on improving their CV. On the other hand, the audience draws from WhatsApp wanted to explore the website.\n",
    "\n",
    "> Coming over to the plot on the right, it is interesting to note that only iPhone users clicked on the social media icons. Although the sample size for both the platforms is not equal, it is something that can be explored in further research."
   ]
  },
  {
   "cell_type": "code",
   "execution_count": 6,
   "metadata": {
    "ExecuteTime": {
     "end_time": "2018-05-12T18:08:07.945279Z",
     "start_time": "2018-05-12T18:08:07.940444Z"
    },
    "scrolled": true
   },
   "outputs": [
    {
     "data": {
      "text/html": [
       "<style>              #cssTable td \n",
       "              {\n",
       "              text-align:center;              vertical-align:middle;\n",
       "              }\n",
       "              </style>              <table id=\"cssTable\">              <tr>\n",
       "              <td>Differences with Regards to the Social Media Platform</td>\n",
       "              <td>Differences with Regards to the Mobile Platform</td>\n",
       "              </tr>\n",
       "              <tr>              <td><img src='supplementary_files/crazyegg_mobile/source_clicks.jpg'></td>              <td><img src='supplementary_files/crazyegg_mobile/mobile_platform.jpg'></td>              </tr>              </table>\n",
       "             "
      ],
      "text/plain": [
       "<IPython.core.display.HTML object>"
      ]
     },
     "metadata": {},
     "output_type": "display_data"
    }
   ],
   "source": [
    "display(HTML(\"\"\"<style>\\\n",
    "              #cssTable td \n",
    "              {\n",
    "              text-align:center;\\\n",
    "              vertical-align:middle;\n",
    "              }\n",
    "              </style>\\\n",
    "              <table id=\"cssTable\">\\\n",
    "              <tr>\n",
    "              <td>Differences with Regards to the Social Media Platform</td>\n",
    "              <td>Differences with Regards to the Mobile Platform</td>\n",
    "              </tr>\n",
    "              <tr>\\\n",
    "              <td><img src='supplementary_files/crazyegg_mobile/source_clicks.jpg'></td>\\\n",
    "              <td><img src='supplementary_files/crazyegg_mobile/mobile_platform.jpg'></td>\\\n",
    "              </tr>\\\n",
    "              </table>\n",
    "             \"\"\"))"
   ]
  },
  {
   "cell_type": "markdown",
   "metadata": {
    "ExecuteTime": {
     "end_time": "2018-05-12T16:38:42.985640Z",
     "start_time": "2018-05-12T16:38:42.981481Z"
    }
   },
   "source": [
    "> On the left, the users are differentiated concerning the social media platform they used to come to this specific page. The users display a similar pattern, LinkedIn referrals tend to focus on professional content whereas users from other platforms tend to explore the website.\n",
    "\n",
    "> The plot on the right shows that only one of the Windows 10 user clicked to know more about projects. Again this could be caused due to the differences in the sample size."
   ]
  },
  {
   "cell_type": "code",
   "execution_count": 5,
   "metadata": {
    "ExecuteTime": {
     "end_time": "2018-05-12T16:38:12.467379Z",
     "start_time": "2018-05-12T16:38:12.462919Z"
    }
   },
   "outputs": [
    {
     "data": {
      "text/html": [
       "<style>              #cssTable td \n",
       "              {\n",
       "              text-align:center;              vertical-align:middle;\n",
       "              }\n",
       "              </style>              <table id=\"cssTable\">              <tr>\n",
       "              <td>Differences with regards to social media platform</td>\n",
       "              <td>Differences with regards to the Operating Systems</td>\n",
       "              </tr>\n",
       "              <tr>              <td><img src='supplementary_files/crazyegg_desktop/social_media.jpg'></td>              <td><img src='supplementary_files/crazyegg_desktop/mac_win.jpg'></td>              </tr>              </table>\n",
       "             "
      ],
      "text/plain": [
       "<IPython.core.display.HTML object>"
      ]
     },
     "metadata": {},
     "output_type": "display_data"
    }
   ],
   "source": [
    "display(HTML(\"\"\"<style>\\\n",
    "              #cssTable td \n",
    "              {\n",
    "              text-align:center;\\\n",
    "              vertical-align:middle;\n",
    "              }\n",
    "              </style>\\\n",
    "              <table id=\"cssTable\">\\\n",
    "              <tr>\n",
    "              <td>Differences with regards to social media platform</td>\n",
    "              <td>Differences with regards to the Operating Systems</td>\n",
    "              </tr>\n",
    "              <tr>\\\n",
    "              <td><img src='supplementary_files/crazyegg_desktop/social_media.jpg'></td>\\\n",
    "              <td><img src='supplementary_files/crazyegg_desktop/mac_win.jpg'></td>\\\n",
    "              </tr>\\\n",
    "              </table>\n",
    "             \"\"\"))"
   ]
  },
  {
   "cell_type": "markdown",
   "metadata": {
    "ExecuteTime": {
     "end_time": "2018-05-12T16:52:21.936431Z",
     "start_time": "2018-05-12T16:52:21.934097Z"
    }
   },
   "source": [
    "#### Scrolling"
   ]
  },
  {
   "cell_type": "markdown",
   "metadata": {},
   "source": [
    "> User's generally scrolled a lot more while surfing the website through their mobiles compared to when they opened it on their Desktops/Laptops. Placement could be a much more impactful if the main traffic is coming through laptops. In this case, significant traffic was coming through Mobiles."
   ]
  },
  {
   "cell_type": "code",
   "execution_count": 167,
   "metadata": {
    "ExecuteTime": {
     "end_time": "2018-05-12T16:58:50.150538Z",
     "start_time": "2018-05-12T16:58:50.146135Z"
    }
   },
   "outputs": [
    {
     "data": {
      "text/html": [
       "<style>              #cssTable td \n",
       "              {\n",
       "              text-align:center;              vertical-align:middle;\n",
       "              }\n",
       "              </style>              <table id=\"cssTable\">              <col width=\"300\">\n",
       "              <col width=\"700\">\n",
       "              <tr>\n",
       "              <td>Mobile</td>\n",
       "              <td>Desktop</td>\n",
       "              </tr>\n",
       "              <tr>              <td><img src='supplementary_files/crazyegg_mobile/Scrollmap Avi - DMGB, 05-08-18.jpg'></td>              <td><img src='supplementary_files/crazyegg_desktop/Scrollmap Avi - DMGB, 05-08-18.jpg'></td>              </tr>              </table>\n",
       "             "
      ],
      "text/plain": [
       "<IPython.core.display.HTML object>"
      ]
     },
     "metadata": {},
     "output_type": "display_data"
    }
   ],
   "source": [
    "display(HTML(\"\"\"<style>\\\n",
    "              #cssTable td \n",
    "              {\n",
    "              text-align:center;\\\n",
    "              vertical-align:middle;\n",
    "              }\n",
    "              </style>\\\n",
    "              <table id=\"cssTable\">\\\n",
    "              <col width=\"300\">\n",
    "              <col width=\"700\">\n",
    "              <tr>\n",
    "              <td>Mobile</td>\n",
    "              <td>Desktop</td>\n",
    "              </tr>\n",
    "              <tr>\\\n",
    "              <td><img src='supplementary_files/crazyegg_mobile/Scrollmap Avi - DMGB, 05-08-18.jpg'></td>\\\n",
    "              <td><img src='supplementary_files/crazyegg_desktop/Scrollmap Avi - DMGB, 05-08-18.jpg'></td>\\\n",
    "              </tr>\\\n",
    "              </table>\n",
    "             \"\"\"))"
   ]
  },
  {
   "cell_type": "markdown",
   "metadata": {},
   "source": [
    "# A/B Testing"
   ]
  },
  {
   "cell_type": "markdown",
   "metadata": {
    "ExecuteTime": {
     "end_time": "2018-06-12T20:35:23.473937Z",
     "start_time": "2018-06-12T20:35:23.470462Z"
    }
   },
   "source": [
    "> Context\n",
    "\n",
    "The DMBG2 website was created to help people optimise their CV and was advertised as a blog giving out free CV templates. The screenshot below shows the main pages of the website."
   ]
  },
  {
   "cell_type": "code",
   "execution_count": 10,
   "metadata": {
    "ExecuteTime": {
     "end_time": "2018-06-12T20:37:03.173005Z",
     "start_time": "2018-06-12T20:37:03.168154Z"
    }
   },
   "outputs": [
    {
     "data": {
      "text/html": [
       "<style>              #cssTable td \n",
       "              {\n",
       "              text-align:center;              vertical-align:middle;\n",
       "              }\n",
       "              </style>              <table id=\"cssTable\">              <tr>              <td>Home page</td>              <td>Optimise your CV</td>              <td>Industry Knowledge</td>              <td>Vote for Us</td>              <td>Thank You</td>              <tr>              <td><img src='supplementary_files/q1/home.png'></td>              <td><img src='supplementary_files/q1/cv.png'></td>              <td><img src='supplementary_files/q1/industry.png'></td>              <td><img src='supplementary_files/q1/vote.png'></td>              <td><img src='supplementary_files/q1/thankyou.png'></td>              </tr>              </table>\n",
       "             "
      ],
      "text/plain": [
       "<IPython.core.display.HTML object>"
      ]
     },
     "metadata": {},
     "output_type": "display_data"
    }
   ],
   "source": [
    "display(HTML(\"\"\"<style>\\\n",
    "              #cssTable td \n",
    "              {\n",
    "              text-align:center;\\\n",
    "              vertical-align:middle;\n",
    "              }\n",
    "              </style>\\\n",
    "              <table id=\"cssTable\">\\\n",
    "              <tr>\\\n",
    "              <td>Home page</td>\\\n",
    "              <td>Optimise your CV</td>\\\n",
    "              <td>Industry Knowledge</td>\\\n",
    "              <td>Vote for Us</td>\\\n",
    "              <td>Thank You</td>\\\n",
    "              <tr>\\\n",
    "              <td><img src='supplementary_files/q1/home.png'></td>\\\n",
    "              <td><img src='supplementary_files/q1/cv.png'></td>\\\n",
    "              <td><img src='supplementary_files/q1/industry.png'></td>\\\n",
    "              <td><img src='supplementary_files/q1/vote.png'></td>\\\n",
    "              <td><img src='supplementary_files/q1/thankyou.png'></td>\\\n",
    "              </tr>\\\n",
    "              </table>\n",
    "             \"\"\"))"
   ]
  },
  {
   "cell_type": "markdown",
   "metadata": {},
   "source": [
    "> Methodology\n",
    "\n",
    "A 'Vote for us' page along with a 'Thank you' page was created to track conversions using the URL. This URL was set up as a goal in the google analytics account which was then imported into the AdWords account for conversion tracking. These pages were hidden from the navigation bar to make sure that users are only able to access them after clicking the Vote for us Button."
   ]
  },
  {
   "cell_type": "markdown",
   "metadata": {},
   "source": [
    "## Research Objective"
   ]
  },
  {
   "cell_type": "markdown",
   "metadata": {},
   "source": [
    "The central research question for the A/B test was as follows:\n",
    "\n",
    "> Whether mentioning the mission and aim of the company on the landing page decreases the number of bounces.\n",
    "\n",
    "The table below shows the two websites that were created for conducting the test mentioned above"
   ]
  },
  {
   "cell_type": "code",
   "execution_count": 11,
   "metadata": {
    "ExecuteTime": {
     "end_time": "2018-06-12T20:38:10.657555Z",
     "start_time": "2018-06-12T20:38:10.653420Z"
    }
   },
   "outputs": [
    {
     "data": {
      "text/html": [
       "<style>              #cssTable td \n",
       "              {\n",
       "              text-align:center;              vertical-align:middle;\n",
       "              }\n",
       "              </style>              <table id=\"cssTable\">              <tr>              <td>With Mission</td>              <td>Without Mission</td>              <tr>              <td><img src='supplementary_files/q1/with_mission.png'></td>              <td><img src='supplementary_files/q1/without_mission.png'></td>              </tr>              </table>\n",
       "             "
      ],
      "text/plain": [
       "<IPython.core.display.HTML object>"
      ]
     },
     "metadata": {},
     "output_type": "display_data"
    }
   ],
   "source": [
    "display(HTML(\"\"\"<style>\\\n",
    "              #cssTable td \n",
    "              {\n",
    "              text-align:center;\\\n",
    "              vertical-align:middle;\n",
    "              }\n",
    "              </style>\\\n",
    "              <table id=\"cssTable\">\\\n",
    "              <tr>\\\n",
    "              <td>With Mission</td>\\\n",
    "              <td>Without Mission</td>\\\n",
    "              <tr>\\\n",
    "              <td><img src='supplementary_files/q1/with_mission.png'></td>\\\n",
    "              <td><img src='supplementary_files/q1/without_mission.png'></td>\\\n",
    "              </tr>\\\n",
    "              </table>\n",
    "             \"\"\"))"
   ]
  },
  {
   "cell_type": "markdown",
   "metadata": {
    "ExecuteTime": {
     "end_time": "2018-06-12T20:38:24.000204Z",
     "start_time": "2018-06-12T20:38:23.996913Z"
    }
   },
   "source": [
    "The promotion for this website was done on the following platforms:\n",
    "\n",
    "* Facebook\n",
    "* Instagram\n",
    "* WhatsApp\n",
    "* WeChat\n",
    "* Newsletter with over 1500 recipients"
   ]
  },
  {
   "cell_type": "code",
   "execution_count": 13,
   "metadata": {
    "ExecuteTime": {
     "end_time": "2018-06-12T20:38:43.809373Z",
     "start_time": "2018-06-12T20:38:43.804139Z"
    }
   },
   "outputs": [
    {
     "data": {
      "text/html": [
       "<style>              #cssTable td \n",
       "              {\n",
       "              text-align:center;              vertical-align:middle;\n",
       "              }\n",
       "              </style>              <table id=\"cssTable\">              <tr>              <td>Facebook</td>              <td>Instagram</td>              <td>LinkedIn</td>              <td>Newsletter</td>              <td>WeChat</td>              <td>WhatsApp</td>              <tr>              <td><img src='supplementary_files/q1/facebook.jpeg'></td>              <td><img src='supplementary_files/q1/instagram.jpg'></td>              <td><img src='supplementary_files/q1/linkedin.jpg'></td>              <td><img src='supplementary_files/q1/newsletter.jpg'></td>              <td><img src='supplementary_files/q1/wechat.jpeg'></td>              <td><img src='supplementary_files/q1/whatsapp.jpg'></td>              </tr>              </table>\n",
       "             "
      ],
      "text/plain": [
       "<IPython.core.display.HTML object>"
      ]
     },
     "metadata": {},
     "output_type": "display_data"
    }
   ],
   "source": [
    "display(HTML(\"\"\"<style>\\\n",
    "              #cssTable td \n",
    "              {\n",
    "              text-align:center;\\\n",
    "              vertical-align:middle;\n",
    "              }\n",
    "              </style>\\\n",
    "              <table id=\"cssTable\">\\\n",
    "              <tr>\\\n",
    "              <td>Facebook</td>\\\n",
    "              <td>Instagram</td>\\\n",
    "              <td>LinkedIn</td>\\\n",
    "              <td>Newsletter</td>\\\n",
    "              <td>WeChat</td>\\\n",
    "              <td>WhatsApp</td>\\\n",
    "              <tr>\\\n",
    "              <td><img src='supplementary_files/q1/facebook.jpeg'></td>\\\n",
    "              <td><img src='supplementary_files/q1/instagram.jpg'></td>\\\n",
    "              <td><img src='supplementary_files/q1/linkedin.jpg'></td>\\\n",
    "              <td><img src='supplementary_files/q1/newsletter.jpg'></td>\\\n",
    "              <td><img src='supplementary_files/q1/wechat.jpeg'></td>\\\n",
    "              <td><img src='supplementary_files/q1/whatsapp.jpg'></td>\\\n",
    "              </tr>\\\n",
    "              </table>\n",
    "             \"\"\"))"
   ]
  },
  {
   "cell_type": "markdown",
   "metadata": {},
   "source": [
    "## Google Optimize"
   ]
  },
  {
   "cell_type": "markdown",
   "metadata": {},
   "source": [
    "The A/B test was conducted for seven days, and the graph below gives an idea of sample size as well as the traffic distribution over the 7 days of the test. The test uses data for 362 sessions which were divided equally (approximately) between the two options."
   ]
  },
  {
   "cell_type": "markdown",
   "metadata": {},
   "source": [
    "![Distribution of traffic for A/B Test](supplementary_files/q1/traffic.png)"
   ]
  },
  {
   "cell_type": "markdown",
   "metadata": {
    "ExecuteTime": {
     "end_time": "2018-06-12T20:40:44.063569Z",
     "start_time": "2018-06-12T20:40:44.059727Z"
    }
   },
   "source": [
    "The result below shows that there is not a significant impact of using the mission statement on the landing page on the number of bounces. It is however interesting to note that over time the difference between the two options seems to have increased. We can also see that the page without the mission appears to be doing better. The page without mission has a 92 $\\%$ probability of beating the page with the mission statement."
   ]
  },
  {
   "cell_type": "markdown",
   "metadata": {
    "ExecuteTime": {
     "end_time": "2018-06-12T20:40:25.919206Z",
     "start_time": "2018-06-12T20:40:25.804502Z"
    }
   },
   "source": [
    "![Google Optimize results for the A/B Test](supplementary_files/q1/bounces.png)"
   ]
  },
  {
   "cell_type": "markdown",
   "metadata": {},
   "source": [
    "The reports below show the results for the number of page views and the session duration. Since 0 is included in the confidence interval of the impact of no mission on these variables, we concluded that mentioning mission statement on our landing page had no impact on the number of bounces, the number of pages viewed and the session duration."
   ]
  },
  {
   "cell_type": "markdown",
   "metadata": {},
   "source": [
    "![Google Optimize report for the A/B Test](supplementary_files/q1/ab_report.png)"
   ]
  },
  {
   "cell_type": "markdown",
   "metadata": {},
   "source": [
    "## Campaign Performance"
   ]
  },
  {
   "cell_type": "markdown",
   "metadata": {},
   "source": [
    "The picture below gives a broad overview of the performance of the Adwords Campaign. As shown below, 344 people clicked on the ad, and there were 4,730 Impressions. The click-through rate was 7.27  %\n",
    " . The coupon code was used to get £75 as credit. A total of £60 was used to promote the website on Google AdWords."
   ]
  },
  {
   "cell_type": "markdown",
   "metadata": {
    "ExecuteTime": {
     "end_time": "2018-06-12T20:57:21.053630Z",
     "start_time": "2018-06-12T20:57:20.936922Z"
    }
   },
   "source": [
    "![Overview of the Adwords Campaign](supplementary_files/q1/most_shown_ad.png)"
   ]
  },
  {
   "cell_type": "markdown",
   "metadata": {},
   "source": [
    "The table below shows which keywords performed well for the campaign and also gives an idea of the cost per conversion for the top 10 keywords."
   ]
  },
  {
   "cell_type": "code",
   "execution_count": 17,
   "metadata": {
    "ExecuteTime": {
     "end_time": "2018-06-12T20:58:02.647541Z",
     "start_time": "2018-06-12T20:58:02.623586Z"
    }
   },
   "outputs": [
    {
     "data": {
      "text/html": [
       "<div>\n",
       "<style scoped>\n",
       "    .dataframe tbody tr th:only-of-type {\n",
       "        vertical-align: middle;\n",
       "    }\n",
       "\n",
       "    .dataframe tbody tr th {\n",
       "        vertical-align: top;\n",
       "    }\n",
       "\n",
       "    .dataframe thead th {\n",
       "        text-align: right;\n",
       "    }\n",
       "</style>\n",
       "<table border=\"1\" class=\"dataframe\">\n",
       "  <thead>\n",
       "    <tr style=\"text-align: right;\">\n",
       "      <th></th>\n",
       "      <th>Search keyword</th>\n",
       "      <th>Ad relevance</th>\n",
       "      <th>Landing page experience</th>\n",
       "      <th>Expected clickthrough rate</th>\n",
       "      <th>Impressions</th>\n",
       "      <th>Clicks</th>\n",
       "      <th>CTR</th>\n",
       "      <th>Avg. CPC</th>\n",
       "      <th>Conversions</th>\n",
       "      <th>Conv. rate</th>\n",
       "      <th>Cost / conv.</th>\n",
       "      <th>Conv. value / cost (current model)</th>\n",
       "    </tr>\n",
       "  </thead>\n",
       "  <tbody>\n",
       "    <tr>\n",
       "      <th>0</th>\n",
       "      <td>cv writing</td>\n",
       "      <td>Below average</td>\n",
       "      <td>Below average</td>\n",
       "      <td>Above average</td>\n",
       "      <td>2158.0</td>\n",
       "      <td>177</td>\n",
       "      <td>8.20%</td>\n",
       "      <td>£0.17</td>\n",
       "      <td>6</td>\n",
       "      <td>3.39%</td>\n",
       "      <td>£4.94</td>\n",
       "      <td>0.18</td>\n",
       "    </tr>\n",
       "    <tr>\n",
       "      <th>18</th>\n",
       "      <td>how to do a resume</td>\n",
       "      <td>Average</td>\n",
       "      <td>Average</td>\n",
       "      <td>Average</td>\n",
       "      <td>950.0</td>\n",
       "      <td>74</td>\n",
       "      <td>7.79%</td>\n",
       "      <td>£0.18</td>\n",
       "      <td>2</td>\n",
       "      <td>2.70%</td>\n",
       "      <td>£6.68</td>\n",
       "      <td>0.13</td>\n",
       "    </tr>\n",
       "    <tr>\n",
       "      <th>11</th>\n",
       "      <td>free cv maker</td>\n",
       "      <td>Below average</td>\n",
       "      <td>Below average</td>\n",
       "      <td>Above average</td>\n",
       "      <td>556.0</td>\n",
       "      <td>35</td>\n",
       "      <td>6.29%</td>\n",
       "      <td>£0.22</td>\n",
       "      <td>0</td>\n",
       "      <td>0.00%</td>\n",
       "      <td>£0.00</td>\n",
       "      <td>0.00</td>\n",
       "    </tr>\n",
       "    <tr>\n",
       "      <th>24</th>\n",
       "      <td>free resume sample</td>\n",
       "      <td>Below average</td>\n",
       "      <td>Average</td>\n",
       "      <td>Average</td>\n",
       "      <td>226.0</td>\n",
       "      <td>15</td>\n",
       "      <td>6.64%</td>\n",
       "      <td>£0.13</td>\n",
       "      <td>0</td>\n",
       "      <td>0.00%</td>\n",
       "      <td>£0.00</td>\n",
       "      <td>0.00</td>\n",
       "    </tr>\n",
       "    <tr>\n",
       "      <th>16</th>\n",
       "      <td>careers advice</td>\n",
       "      <td>Average</td>\n",
       "      <td>Average</td>\n",
       "      <td>Average</td>\n",
       "      <td>212.0</td>\n",
       "      <td>3</td>\n",
       "      <td>1.42%</td>\n",
       "      <td>£0.59</td>\n",
       "      <td>0</td>\n",
       "      <td>0.00%</td>\n",
       "      <td>£0.00</td>\n",
       "      <td>0.00</td>\n",
       "    </tr>\n",
       "    <tr>\n",
       "      <th>21</th>\n",
       "      <td>best resume format</td>\n",
       "      <td>Below average</td>\n",
       "      <td>Below average</td>\n",
       "      <td>Above average</td>\n",
       "      <td>153.0</td>\n",
       "      <td>12</td>\n",
       "      <td>7.84%</td>\n",
       "      <td>£0.09</td>\n",
       "      <td>0</td>\n",
       "      <td>0.00%</td>\n",
       "      <td>£0.00</td>\n",
       "      <td>0.00</td>\n",
       "    </tr>\n",
       "    <tr>\n",
       "      <th>23</th>\n",
       "      <td>free careers advice</td>\n",
       "      <td>Average</td>\n",
       "      <td>Average</td>\n",
       "      <td>Average</td>\n",
       "      <td>126.0</td>\n",
       "      <td>3</td>\n",
       "      <td>2.38%</td>\n",
       "      <td>£0.15</td>\n",
       "      <td>0</td>\n",
       "      <td>0.00%</td>\n",
       "      <td>£0.00</td>\n",
       "      <td>0.00</td>\n",
       "    </tr>\n",
       "    <tr>\n",
       "      <th>13</th>\n",
       "      <td>Free CV templates</td>\n",
       "      <td>Below average</td>\n",
       "      <td>Below average</td>\n",
       "      <td>Above average</td>\n",
       "      <td>124.0</td>\n",
       "      <td>7</td>\n",
       "      <td>5.65%</td>\n",
       "      <td>£0.11</td>\n",
       "      <td>0</td>\n",
       "      <td>0.00%</td>\n",
       "      <td>£0.00</td>\n",
       "      <td>0.00</td>\n",
       "    </tr>\n",
       "    <tr>\n",
       "      <th>8</th>\n",
       "      <td>cv maker</td>\n",
       "      <td>Below average</td>\n",
       "      <td>Below average</td>\n",
       "      <td>Above average</td>\n",
       "      <td>111.0</td>\n",
       "      <td>6</td>\n",
       "      <td>5.41%</td>\n",
       "      <td>£0.17</td>\n",
       "      <td>0</td>\n",
       "      <td>0.00%</td>\n",
       "      <td>£0.00</td>\n",
       "      <td>0.00</td>\n",
       "    </tr>\n",
       "    <tr>\n",
       "      <th>17</th>\n",
       "      <td>make my cv for free</td>\n",
       "      <td>Below average</td>\n",
       "      <td>Below average</td>\n",
       "      <td>Below average</td>\n",
       "      <td>100.0</td>\n",
       "      <td>12</td>\n",
       "      <td>12.00%</td>\n",
       "      <td>£0.18</td>\n",
       "      <td>0</td>\n",
       "      <td>0.00%</td>\n",
       "      <td>£0.00</td>\n",
       "      <td>0.00</td>\n",
       "    </tr>\n",
       "  </tbody>\n",
       "</table>\n",
       "</div>"
      ],
      "text/plain": [
       "         Search keyword   Ad relevance Landing page experience  \\\n",
       "0            cv writing  Below average           Below average   \n",
       "18   how to do a resume        Average                 Average   \n",
       "11        free cv maker  Below average           Below average   \n",
       "24   free resume sample  Below average                 Average   \n",
       "16       careers advice        Average                 Average   \n",
       "21   best resume format  Below average           Below average   \n",
       "23  free careers advice        Average                 Average   \n",
       "13    Free CV templates  Below average           Below average   \n",
       "8              cv maker  Below average           Below average   \n",
       "17  make my cv for free  Below average           Below average   \n",
       "\n",
       "   Expected clickthrough rate  Impressions  Clicks     CTR Avg. CPC  \\\n",
       "0               Above average       2158.0     177   8.20%    £0.17   \n",
       "18                    Average        950.0      74   7.79%    £0.18   \n",
       "11              Above average        556.0      35   6.29%    £0.22   \n",
       "24                    Average        226.0      15   6.64%    £0.13   \n",
       "16                    Average        212.0       3   1.42%    £0.59   \n",
       "21              Above average        153.0      12   7.84%    £0.09   \n",
       "23                    Average        126.0       3   2.38%    £0.15   \n",
       "13              Above average        124.0       7   5.65%    £0.11   \n",
       "8               Above average        111.0       6   5.41%    £0.17   \n",
       "17              Below average        100.0      12  12.00%    £0.18   \n",
       "\n",
       "    Conversions Conv. rate Cost / conv.  Conv. value / cost (current model)  \n",
       "0             6      3.39%        £4.94                                0.18  \n",
       "18            2      2.70%        £6.68                                0.13  \n",
       "11            0      0.00%        £0.00                                0.00  \n",
       "24            0      0.00%        £0.00                                0.00  \n",
       "16            0      0.00%        £0.00                                0.00  \n",
       "21            0      0.00%        £0.00                                0.00  \n",
       "23            0      0.00%        £0.00                                0.00  \n",
       "13            0      0.00%        £0.00                                0.00  \n",
       "8             0      0.00%        £0.00                                0.00  \n",
       "17            0      0.00%        £0.00                                0.00  "
      ]
     },
     "execution_count": 17,
     "metadata": {},
     "output_type": "execute_result"
    }
   ],
   "source": [
    "datapath_keyword = r'supplementary_files/q1/keyword_performance.csv'\n",
    "keyword = pd.read_csv(datapath_keyword, skiprows=2)\n",
    "keyword.sort_values(['Impressions'], ascending=[False]).head(10)"
   ]
  },
  {
   "cell_type": "markdown",
   "metadata": {},
   "source": [
    "Overall, the campaign didn't perform well. This is clear from the comparison of the overall performance v/s the Adwords performance shown below. There were just ten conversions from the Adword campaign which seems low compared to the social media campaigns. It is important to note that friends and family would have any way converted and thus comparing these two campaigns can be a bit unfair."
   ]
  },
  {
   "cell_type": "markdown",
   "metadata": {},
   "source": [
    "![Comparison of the Overall compaign vs. Adwords](supplementary_files/q1/conversion_adword.png)"
   ]
  },
  {
   "cell_type": "markdown",
   "metadata": {
    "ExecuteTime": {
     "end_time": "2018-06-12T21:06:16.659785Z",
     "start_time": "2018-06-12T21:06:16.655455Z"
    }
   },
   "source": [
    "The real success of the campaign depends on the average value of the customer. In a transactional setting, it can be the average amount the business makes from a customer transaction. In a subscription setting, the company can focus more on Customer Life Time Value. We can then compare if the expenditure on the ads was worth it or not. In this case, the value attached to every vote was £1 and for every £1 spend on AdWords only 0.12 was recovered. "
   ]
  },
  {
   "cell_type": "code",
   "execution_count": 19,
   "metadata": {
    "ExecuteTime": {
     "end_time": "2018-06-12T21:06:29.873016Z",
     "start_time": "2018-06-12T21:06:29.862284Z"
    }
   },
   "outputs": [
    {
     "data": {
      "text/html": [
       "<div>\n",
       "<style scoped>\n",
       "    .dataframe tbody tr th:only-of-type {\n",
       "        vertical-align: middle;\n",
       "    }\n",
       "\n",
       "    .dataframe tbody tr th {\n",
       "        vertical-align: top;\n",
       "    }\n",
       "\n",
       "    .dataframe thead th {\n",
       "        text-align: right;\n",
       "    }\n",
       "</style>\n",
       "<table border=\"1\" class=\"dataframe\">\n",
       "  <thead>\n",
       "    <tr style=\"text-align: right;\">\n",
       "      <th></th>\n",
       "      <th>Campaign</th>\n",
       "      <th>Cost</th>\n",
       "      <th>Avg. CPC</th>\n",
       "      <th>Avg. position</th>\n",
       "      <th>Cost / conv.</th>\n",
       "      <th>Conv. rate</th>\n",
       "      <th>Conv. value / cost (current model)</th>\n",
       "    </tr>\n",
       "  </thead>\n",
       "  <tbody>\n",
       "    <tr>\n",
       "      <th>0</th>\n",
       "      <td>dmgb2</td>\n",
       "      <td>£60.00</td>\n",
       "      <td>£0.17</td>\n",
       "      <td>1.78</td>\n",
       "      <td>£7.50</td>\n",
       "      <td>2.33%</td>\n",
       "      <td>0.12</td>\n",
       "    </tr>\n",
       "  </tbody>\n",
       "</table>\n",
       "</div>"
      ],
      "text/plain": [
       "  Campaign    Cost Avg. CPC  Avg. position Cost / conv. Conv. rate  \\\n",
       "0    dmgb2  £60.00    £0.17           1.78        £7.50      2.33%   \n",
       "\n",
       "   Conv. value / cost (current model)  \n",
       "0                                0.12  "
      ]
     },
     "execution_count": 19,
     "metadata": {},
     "output_type": "execute_result"
    }
   ],
   "source": [
    "datapath_campaign = r'supplementary_files/q1/summary.csv'\n",
    "campaign = pd.read_csv(datapath_campaign, skiprows=2)\n",
    "campaign"
   ]
  },
  {
   "cell_type": "raw",
   "metadata": {},
   "source": [
    "<script>\n",
    "  $(document).ready(function(){\n",
    "    $('div.prompt').hide();\n",
    "    $('div.back-to-top').hide();\n",
    "    $('nav#menubar').hide();\n",
    "    $('.breadcrumb').hide();\n",
    "    $('.hidden-print').hide();\n",
    "  });\n",
    "</script>\n",
    "\n",
    "<footer id=\"attribution\" style=\"float:right; color:#999; background:#fff;\">\n",
    "</footer>"
   ]
  }
 ],
 "metadata": {
  "kernelspec": {
   "display_name": "Python 3",
   "language": "python",
   "name": "python3"
  },
  "language_info": {
   "codemirror_mode": {
    "name": "ipython",
    "version": 3
   },
   "file_extension": ".py",
   "mimetype": "text/x-python",
   "name": "python",
   "nbconvert_exporter": "python",
   "pygments_lexer": "ipython3",
   "version": "3.7.0"
  },
  "toc": {
   "base_numbering": 1,
   "nav_menu": {},
   "number_sections": true,
   "sideBar": true,
   "skip_h1_title": false,
   "title_cell": "Table of Contents",
   "title_sidebar": "Contents",
   "toc_cell": false,
   "toc_position": {},
   "toc_section_display": true,
   "toc_window_display": false
  },
  "varInspector": {
   "cols": {
    "lenName": 16,
    "lenType": 16,
    "lenVar": 40
   },
   "kernels_config": {
    "python": {
     "delete_cmd_postfix": "",
     "delete_cmd_prefix": "del ",
     "library": "var_list.py",
     "varRefreshCmd": "print(var_dic_list())"
    },
    "r": {
     "delete_cmd_postfix": ") ",
     "delete_cmd_prefix": "rm(",
     "library": "var_list.r",
     "varRefreshCmd": "cat(var_dic_list()) "
    }
   },
   "types_to_exclude": [
    "module",
    "function",
    "builtin_function_or_method",
    "instance",
    "_Feature"
   ],
   "window_display": false
  }
 },
 "nbformat": 4,
 "nbformat_minor": 2
}
